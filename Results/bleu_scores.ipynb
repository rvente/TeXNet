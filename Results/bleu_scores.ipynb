{
 "cells": [
  {
   "cell_type": "markdown",
   "metadata": {},
   "source": [
    "Compute blue score given ground truth sequence along with predicted sequence"
   ]
  },
  {
   "cell_type": "code",
   "execution_count": 1,
   "metadata": {},
   "outputs": [],
   "source": [
    "import pandas as pd\n",
    "import numpy as np\n",
    "import matplotlib.pyplot as plt\n",
    "import matplotlib\n",
    "from nltk.translate.bleu_score import sentence_bleu\n",
    "matplotlib.use(\"pgf\")\n",
    "matplotlib.rcParams.update({\n",
    "    \"pgf.texsystem\": \"pdflatex\",\n",
    "    'font.family': 'serif',\n",
    "    'text.usetex': True,\n",
    "    'pgf.rcfonts': False,\n",
    "})\n"
   ]
  },
  {
   "cell_type": "code",
   "execution_count": 2,
   "metadata": {},
   "outputs": [],
   "source": [
    "predictions = pd.read_csv(\"texnet_predictions.csv\")\n"
   ]
  },
  {
   "cell_type": "code",
   "execution_count": 3,
   "metadata": {},
   "outputs": [
    {
     "output_type": "execute_result",
     "data": {
      "text/plain": "       eval_image_name                                         target_seq  \\\n0                    0                    \\phi ( g ) = \\lambda ( g ) \\xi    \n1                12119                             a _ { m 1 1 2 } = 0 .    \n2                 6769        v = x \\left( \\frac { N + 2 } { N } \\right)    \n3                 6770  \\phi _ { j } ( \\theta , \\phi ) = g _ { j } ( \\...   \n4                12117                     \\hat { n } _ { \\alpha \\beta }    \n...                ...                                                ...   \n16515            12372                 \\frac 1 2 , \\frac 1 2 , \\frac 1 2    \n16516            15630                 \\tau ^ { \\mathbf { \\hat { a } } }    \n16517             3860          \\left\\langle \\cdot , \\cdot \\right\\rangle    \n16518             3218                 | 0 _ { \\mathrm { i n } } \\rangle    \n16519              675                                           1 0 0 \\    \n\n                                                pred_seq  score_pred  \\\n0                        \\phi ( g ) = \\lambda ( g ) \\xi            0   \n1                                 a _ { m 1 1 2 } = 0 .            0   \n2            v = x \\left( \\frac { N + 2 } { N } \\right)            0   \n3      \\phi _ { j } ( \\theta , \\phi ) = g _ { j } ( \\...           0   \n4                         \\hat { n } _ { \\alpha \\beta }            0   \n...                                                  ...         ...   \n16515  \\frac { 1 } { 2 } , \\frac { 1 } { 2 } , \\frac ...           0   \n16516  { { \\mathrm { \\boldmath { \\tau } } } ^ { { \\bf...           0   \n16517             { \\langle { \\cdot , \\cdot } \\rangle }            0   \n16518  { \\mathrm { { | } } { { { \\mathrm { { 0 } } _ ...           0   \n16519                     \\begin{array} { c } { 1 0 0 }            0   \n\n       score_gold  \n0               0  \n1               0  \n2               0  \n3               0  \n4               0  \n...           ...  \n16515           0  \n16516           0  \n16517           0  \n16518           0  \n16519           0  \n\n[16520 rows x 5 columns]",
      "text/html": "<div>\n<style scoped>\n    .dataframe tbody tr th:only-of-type {\n        vertical-align: middle;\n    }\n\n    .dataframe tbody tr th {\n        vertical-align: top;\n    }\n\n    .dataframe thead th {\n        text-align: right;\n    }\n</style>\n<table border=\"1\" class=\"dataframe\">\n  <thead>\n    <tr style=\"text-align: right;\">\n      <th></th>\n      <th>eval_image_name</th>\n      <th>target_seq</th>\n      <th>pred_seq</th>\n      <th>score_pred</th>\n      <th>score_gold</th>\n    </tr>\n  </thead>\n  <tbody>\n    <tr>\n      <th>0</th>\n      <td>0</td>\n      <td>\\phi ( g ) = \\lambda ( g ) \\xi</td>\n      <td>\\phi ( g ) = \\lambda ( g ) \\xi</td>\n      <td>0</td>\n      <td>0</td>\n    </tr>\n    <tr>\n      <th>1</th>\n      <td>12119</td>\n      <td>a _ { m 1 1 2 } = 0 .</td>\n      <td>a _ { m 1 1 2 } = 0 .</td>\n      <td>0</td>\n      <td>0</td>\n    </tr>\n    <tr>\n      <th>2</th>\n      <td>6769</td>\n      <td>v = x \\left( \\frac { N + 2 } { N } \\right)</td>\n      <td>v = x \\left( \\frac { N + 2 } { N } \\right)</td>\n      <td>0</td>\n      <td>0</td>\n    </tr>\n    <tr>\n      <th>3</th>\n      <td>6770</td>\n      <td>\\phi _ { j } ( \\theta , \\phi ) = g _ { j } ( \\...</td>\n      <td>\\phi _ { j } ( \\theta , \\phi ) = g _ { j } ( \\...</td>\n      <td>0</td>\n      <td>0</td>\n    </tr>\n    <tr>\n      <th>4</th>\n      <td>12117</td>\n      <td>\\hat { n } _ { \\alpha \\beta }</td>\n      <td>\\hat { n } _ { \\alpha \\beta }</td>\n      <td>0</td>\n      <td>0</td>\n    </tr>\n    <tr>\n      <th>...</th>\n      <td>...</td>\n      <td>...</td>\n      <td>...</td>\n      <td>...</td>\n      <td>...</td>\n    </tr>\n    <tr>\n      <th>16515</th>\n      <td>12372</td>\n      <td>\\frac 1 2 , \\frac 1 2 , \\frac 1 2</td>\n      <td>\\frac { 1 } { 2 } , \\frac { 1 } { 2 } , \\frac ...</td>\n      <td>0</td>\n      <td>0</td>\n    </tr>\n    <tr>\n      <th>16516</th>\n      <td>15630</td>\n      <td>\\tau ^ { \\mathbf { \\hat { a } } }</td>\n      <td>{ { \\mathrm { \\boldmath { \\tau } } } ^ { { \\bf...</td>\n      <td>0</td>\n      <td>0</td>\n    </tr>\n    <tr>\n      <th>16517</th>\n      <td>3860</td>\n      <td>\\left\\langle \\cdot , \\cdot \\right\\rangle</td>\n      <td>{ \\langle { \\cdot , \\cdot } \\rangle }</td>\n      <td>0</td>\n      <td>0</td>\n    </tr>\n    <tr>\n      <th>16518</th>\n      <td>3218</td>\n      <td>| 0 _ { \\mathrm { i n } } \\rangle</td>\n      <td>{ \\mathrm { { | } } { { { \\mathrm { { 0 } } _ ...</td>\n      <td>0</td>\n      <td>0</td>\n    </tr>\n    <tr>\n      <th>16519</th>\n      <td>675</td>\n      <td>1 0 0 \\</td>\n      <td>\\begin{array} { c } { 1 0 0 }</td>\n      <td>0</td>\n      <td>0</td>\n    </tr>\n  </tbody>\n</table>\n<p>16520 rows × 5 columns</p>\n</div>"
     },
     "metadata": {},
     "execution_count": 3
    }
   ],
   "source": [
    "predictions"
   ]
  },
  {
   "cell_type": "code",
   "execution_count": 4,
   "metadata": {},
   "outputs": [],
   "source": [
    "split = lambda s:  s.split()\n",
    "bleu_string = lambda truth, candidatate: sentence_bleu([split(truth)], split(candidatate), weights=(.50,.50,0,0))"
   ]
  },
  {
   "cell_type": "code",
   "execution_count": 5,
   "metadata": {},
   "outputs": [],
   "source": [
    "predictions[\"score_pred\"] = predictions.apply(lambda r: bleu_string(r[\"target_seq\"], r[\"pred_seq\"]), axis=1)\n"
   ]
  },
  {
   "cell_type": "code",
   "execution_count": 43,
   "metadata": {},
   "outputs": [
    {
     "output_type": "execute_result",
     "data": {
      "text/plain": "0.9682458365518543"
     },
     "metadata": {},
     "execution_count": 43
    }
   ],
   "source": [
    "bleu_string(\"a \"*32, \"a \"*31+\"b\")"
   ]
  },
  {
   "cell_type": "code",
   "execution_count": 38,
   "metadata": {},
   "outputs": [
    {
     "output_type": "execute_result",
     "data": {
      "text/plain": "0        10\n1        11\n2        14\n3        27\n4         9\n         ..\n16515    11\n16516    11\n16517     5\n16518    11\n16519     4\nName: length, Length: 16520, dtype: int64"
     },
     "metadata": {},
     "execution_count": 38
    }
   ],
   "source": [
    "predictions[\"length\"] = predictions.target_seq.apply(split).apply(len)\n",
    "predictions[\"score_pred\"].describe()\n"
   ]
  },
  {
   "cell_type": "code",
   "execution_count": 7,
   "metadata": {},
   "outputs": [],
   "source": [
    "hist = predictions.hist(bins=50, column=[\"length\"])\n",
    "fig = plt.figure()\n",
    "fig.suptitle('Distribution of Lengths', fontsize=16)\n",
    "plt.xlabel('length in tokens', fontsize=14)\n",
    "plt.ylabel('frequency', fontsize=14)\n",
    "plt.hist(predictions[\"length\"], bins=50, label=None)\n",
    "fig.patch.set_visible(False)\n",
    "plt.savefig(\"assets/histogram.pdf\")"
   ]
  },
  {
   "cell_type": "code",
   "execution_count": 25,
   "metadata": {},
   "outputs": [],
   "source": [
    "fig = plt.figure()\n",
    "fig.suptitle('Distribution of Scores', fontsize=16)\n",
    "plt.xlabel('length in tokens', fontsize=14)\n",
    "plt.ylabel('frequency', fontsize=14)\n",
    "plt.hist(predictions[\"score_pred\"], bins=100, label=None)\n",
    "fig.patch.set_visible(False)\n",
    "plt.savefig(\"assets/scorehistogram.pdf\")"
   ]
  },
  {
   "cell_type": "markdown",
   "metadata": {},
   "source": [
    "https://mode.com/example-gallery/python_histogram/\n",
    "for the qualitative plots\n",
    "https://stackoverflow.com/questions/6871201/plot-two-histograms-on-single-chart-with-matplotlib\n"
   ]
  },
  {
   "cell_type": "code",
   "execution_count": 40,
   "metadata": {},
   "outputs": [
    {
     "output_type": "execute_result",
     "data": {
      "text/plain": "        score_pred\nlength            \n0         0.853270\n5         0.882014\n10        0.921093\n15        0.932694\n20        0.942030\n25        0.937890\n30        0.937400\n35        0.929381\n40        0.927706\n45        0.931142\n50        0.917022\n55        0.913211\n60        0.906583\n65        0.899995\n70        0.915334\n75        0.899796\n80        0.900957\n85        0.889258\n90        0.892566\n95        0.891040\n100       0.888139\n105       0.892081\n110       0.873504\n115       0.807279\n120       0.830402\n125       0.832521\n130       0.831612\n135       0.821714\n140       0.845382\n145       0.838422\n150       0.821087",
      "text/html": "<div>\n<style scoped>\n    .dataframe tbody tr th:only-of-type {\n        vertical-align: middle;\n    }\n\n    .dataframe tbody tr th {\n        vertical-align: top;\n    }\n\n    .dataframe thead th {\n        text-align: right;\n    }\n</style>\n<table border=\"1\" class=\"dataframe\">\n  <thead>\n    <tr style=\"text-align: right;\">\n      <th></th>\n      <th>score_pred</th>\n    </tr>\n    <tr>\n      <th>length</th>\n      <th></th>\n    </tr>\n  </thead>\n  <tbody>\n    <tr>\n      <th>0</th>\n      <td>0.853270</td>\n    </tr>\n    <tr>\n      <th>5</th>\n      <td>0.882014</td>\n    </tr>\n    <tr>\n      <th>10</th>\n      <td>0.921093</td>\n    </tr>\n    <tr>\n      <th>15</th>\n      <td>0.932694</td>\n    </tr>\n    <tr>\n      <th>20</th>\n      <td>0.942030</td>\n    </tr>\n    <tr>\n      <th>25</th>\n      <td>0.937890</td>\n    </tr>\n    <tr>\n      <th>30</th>\n      <td>0.937400</td>\n    </tr>\n    <tr>\n      <th>35</th>\n      <td>0.929381</td>\n    </tr>\n    <tr>\n      <th>40</th>\n      <td>0.927706</td>\n    </tr>\n    <tr>\n      <th>45</th>\n      <td>0.931142</td>\n    </tr>\n    <tr>\n      <th>50</th>\n      <td>0.917022</td>\n    </tr>\n    <tr>\n      <th>55</th>\n      <td>0.913211</td>\n    </tr>\n    <tr>\n      <th>60</th>\n      <td>0.906583</td>\n    </tr>\n    <tr>\n      <th>65</th>\n      <td>0.899995</td>\n    </tr>\n    <tr>\n      <th>70</th>\n      <td>0.915334</td>\n    </tr>\n    <tr>\n      <th>75</th>\n      <td>0.899796</td>\n    </tr>\n    <tr>\n      <th>80</th>\n      <td>0.900957</td>\n    </tr>\n    <tr>\n      <th>85</th>\n      <td>0.889258</td>\n    </tr>\n    <tr>\n      <th>90</th>\n      <td>0.892566</td>\n    </tr>\n    <tr>\n      <th>95</th>\n      <td>0.891040</td>\n    </tr>\n    <tr>\n      <th>100</th>\n      <td>0.888139</td>\n    </tr>\n    <tr>\n      <th>105</th>\n      <td>0.892081</td>\n    </tr>\n    <tr>\n      <th>110</th>\n      <td>0.873504</td>\n    </tr>\n    <tr>\n      <th>115</th>\n      <td>0.807279</td>\n    </tr>\n    <tr>\n      <th>120</th>\n      <td>0.830402</td>\n    </tr>\n    <tr>\n      <th>125</th>\n      <td>0.832521</td>\n    </tr>\n    <tr>\n      <th>130</th>\n      <td>0.831612</td>\n    </tr>\n    <tr>\n      <th>135</th>\n      <td>0.821714</td>\n    </tr>\n    <tr>\n      <th>140</th>\n      <td>0.845382</td>\n    </tr>\n    <tr>\n      <th>145</th>\n      <td>0.838422</td>\n    </tr>\n    <tr>\n      <th>150</th>\n      <td>0.821087</td>\n    </tr>\n  </tbody>\n</table>\n</div>"
     },
     "metadata": {},
     "execution_count": 40
    }
   ],
   "source": [
    "score_by_len = predictions[[\"length\",\"score_pred\"]]\n",
    "score_by_len[\"length\"] = score_by_len[\"length\"] // 5 * 5\n",
    "splot = score_by_len.groupby(\"length\").agg(\"mean\")\n",
    "\n",
    "fig = plt.figure()\n",
    "fig.suptitle('Performance by Length', fontsize=16)\n",
    "plt.xlabel('length in tokens', fontsize=14)\n",
    "plt.ylabel('Bigram BLEU Score', fontsize=14)\n",
    "plt.plot(splot)\n",
    "\n",
    "plt.savefig('assets/scorebylen.pdf')\n"
   ]
  },
  {
   "cell_type": "code",
   "execution_count": 39,
   "metadata": {},
   "outputs": [
    {
     "output_type": "execute_result",
     "data": {
      "text/plain": "291"
     },
     "metadata": {},
     "execution_count": 39
    }
   ],
   "source": [
    "p = predictions[[\"target_seq\",\"length\",\"score_pred\"]]\n",
    "p[\"length\"] = p[\"length\"] // 2 * 2\n",
    "has = lambda x: p[\"target_seq\"].str.contains(x)\n",
    "stacked = p[has(\"array\") | has(\"cases\") | has(\"matrix\") | has(\"binom\")]\n",
    "splot = stacked.groupby(\"length\").agg(\"mean\")\n",
    "fig = plt.figure()\n",
    "fig.suptitle('Performance on Matrices', fontsize=16)\n",
    "plt.xlabel('length in tokens', fontsize=14)\n",
    "plt.ylabel('Bigram BLEU Score', fontsize=14)\n",
    "plt.plot(splot)\n",
    "\n",
    "plt.savefig('assets/scorebylenstacked.pdf')\n",
    "stacked[\"score_pred\"].count()\n"
   ]
  },
  {
   "cell_type": "code",
   "execution_count": 35,
   "metadata": {},
   "outputs": [
    {
     "output_type": "execute_result",
     "data": {
      "text/plain": "2897"
     },
     "metadata": {},
     "execution_count": 35
    }
   ],
   "source": [
    "stacked = p[has(\"frac\") | has(\"over\")]\n",
    "stacked = stacked[[\"length\",\"score_pred\"]]\n",
    "splot = stacked.groupby(\"length\").agg(\"mean\")\n",
    "fig = plt.figure()\n",
    "fig.suptitle('Performance on Fractions', fontsize=16)\n",
    "plt.xlabel('length in tokens', fontsize=14)\n",
    "plt.ylabel('Bigram BLEU Score', fontsize=14)\n",
    "plt.plot(splot)\n",
    "plt.savefig('assets/scorebyfrac.pdf')\n",
    "stacked[\"score_pred\"].count()\n"
   ]
  }
 ],
 "metadata": {
  "language_info": {
   "codemirror_mode": {
    "name": "ipython",
    "version": 3
   },
   "file_extension": ".py",
   "mimetype": "text/x-python",
   "name": "python",
   "nbconvert_exporter": "python",
   "pygments_lexer": "ipython3",
   "version": "3.8.2-final"
  },
  "orig_nbformat": 2,
  "kernelspec": {
   "name": "python38264bit24bc0f4691624067922957b06a20ed4f",
   "display_name": "Python 3.8.2 64-bit"
  }
 },
 "nbformat": 4,
 "nbformat_minor": 2
}