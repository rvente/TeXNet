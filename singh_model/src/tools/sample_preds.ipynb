{
 "cells": [
  {
   "cell_type": "markdown",
   "metadata": {},
   "source": [
    "#### This notebook is used for extracting and formatting data for publishing. Copy it into a gallery folder such as gallery/I2L-STRIPS before running it."
   ]
  },
  {
   "cell_type": "code",
   "execution_count": null,
   "metadata": {
    "collapsed": true
   },
   "outputs": [],
   "source": [
    "import sys\n",
    "sys.path.extend(['../../src/commons'])"
   ]
  },
  {
   "cell_type": "code",
   "execution_count": null,
   "metadata": {
    "collapsed": true
   },
   "outputs": [],
   "source": [
    "from IPython.core.display import display, HTML\n",
    "display(HTML(\"<style>.container { width:90% !important; }</style>\"))"
   ]
  },
  {
   "cell_type": "code",
   "execution_count": null,
   "metadata": {
    "collapsed": true
   },
   "outputs": [],
   "source": [
    "import pandas as pd\n",
    "import os\n",
    "import re\n",
    "import codecs\n",
    "from IPython.display import display, Math, Latex\n",
    "from IPython.display import Image as ipImage\n",
    "from six.moves import cPickle as pickle\n",
    "import string\n",
    "from PIL import Image\n",
    "import numpy as np\n",
    "import h5py\n",
    "import matplotlib as mpl\n",
    "from matplotlib import pyplot as plt\n",
    "from mpl_toolkits.axes_grid1 import ImageGrid\n",
    "# Config the matplotlib backend as plotting inline in IPython\n",
    "%matplotlib inline"
   ]
  },
  {
   "cell_type": "code",
   "execution_count": null,
   "metadata": {
    "collapsed": true
   },
   "outputs": [],
   "source": [
    "pd.options.display.max_rows = 120\n",
    "pd.options.display.max_colwidth = 600\n",
    "pd.options.display.expand_frame_repr = False\n",
    "pd.options.display.colheader_justify = 'left'"
   ]
  },
  {
   "cell_type": "code",
   "execution_count": null,
   "metadata": {
    "collapsed": true
   },
   "outputs": [],
   "source": [
    "import data_commons as dtc\n",
    "import dl_commons as dlc\n",
    "import viz_commons as viz\n",
    "from viz_commons import VisualizeDir, DiffParams, VisualizeStep"
   ]
  },
  {
   "cell_type": "markdown",
   "metadata": {},
   "source": [
    "### Load results of test run"
   ]
  },
  {
   "cell_type": "code",
   "execution_count": null,
   "metadata": {
    "collapsed": true
   },
   "outputs": [],
   "source": [
    "storedir = '.'\n",
    "clobber = True\n",
    "dump = True\n",
    "evaldir = os.path.join(storedir, 'eval_images')\n",
    "rendered_dir = os.path.join(evaldir, 'rendered_images')\n",
    "dumpdir = os.path.join(storedir, 'gallery_data')\n",
    "\n",
    "def chkclobber(path):\n",
    "    assert clobber or (not os.path.exists(path)), \"Can't overwrite file %s when clobber==False\"%path\n",
    "    return path\n",
    "\n",
    "def dump(df_, df_sample_, fname):\n",
    "    if dump:\n",
    "        with open(chkclobber(os.path.join(dumpdir, '%s_sample_table.txt'%fname)), 'w') as f:\n",
    "            for row in df_sample_[['y','$\\hat{y}$']].itertuples(index=False):\n",
    "                f.write(row[0] + ' & ' + row[1] + '\\n')\n",
    "        df_.to_pickle(chkclobber(os.path.join(dumpdir, '%s_preds.pkl'%fname)))\n",
    "        df_sample_.to_pickle(chkclobber(os.path.join(dumpdir, '%s_preds_sample.pkl'%fname)))"
   ]
  },
  {
   "cell_type": "code",
   "execution_count": null,
   "metadata": {
    "collapsed": true
   },
   "outputs": [],
   "source": [
    "vd = VisualizeDir(os.path.expanduser(storedir))\n",
    "last_step = vd.get_steps()[1][-1]\n",
    "print('last_step = %d' % last_step)\n",
    "vs = VisualizeStep(vd, 'test', last_step)\n",
    "df_preds = pd.read_pickle(os.path.join(evaldir, 'predictions_test_%d.pkl'%last_step))"
   ]
  },
  {
   "cell_type": "code",
   "execution_count": null,
   "metadata": {
    "collapsed": true,
    "scrolled": true
   },
   "outputs": [],
   "source": [
    "df_preds"
   ]
  },
  {
   "cell_type": "code",
   "execution_count": null,
   "metadata": {
    "collapsed": true
   },
   "outputs": [],
   "source": [
    "df_strs = vs.strs( 'y', 'predicted_ids', sortkey=None, mingle=False, trim=True, wrap_strs=True, keys=['image_name', 'ed'])\n",
    "df_strs.columns"
   ]
  },
  {
   "cell_type": "markdown",
   "metadata": {},
   "source": [
    "### View and save the unmatched images"
   ]
  },
  {
   "cell_type": "code",
   "execution_count": null,
   "metadata": {
    "collapsed": true,
    "scrolled": true
   },
   "outputs": [],
   "source": [
    "with open(os.path.join(rendered_dir, 'unmatched_filenames.txt'), 'r') as f:\n",
    "    unmatched = []; missing = []\n",
    "    for fname in f:\n",
    "        fname = os.path.basename(fname.strip())\n",
    "        path = os.path.join(rendered_dir, 'images_pred', fname)\n",
    "        if not os.path.exists(path):\n",
    "            missing.append(fname)\n",
    "        else:\n",
    "            unmatched.append(fname)\n",
    "num_missing = len(missing)\n",
    "total = len(df_preds)\n",
    "print('%d(%.3f%%) files missing out of %d'%(num_missing, (num_missing*100.)/(total*1.0), total))\n",
    "df_bad = df_preds.loc[unmatched]\n",
    "\n",
    "def wrap_math(df_):\n",
    "    \"\"\"Wrap the latex formulas with $ symbols.\"\"\"\n",
    "    targets=[]; preds=[];  # image=[];\n",
    "    for row in df_[['target_seq', 'pred_seq']].itertuples(index=True):\n",
    "#         image.append(row[0])\n",
    "        targets.append('$%s$'%row[1])\n",
    "        preds.append('$%s$'%row[2])\n",
    "    _df = df_.drop(['iloc'], axis=1).reset_index(drop=False).copy(deep=True)\n",
    "    _df = _df.assign(y=targets, pred=preds)\n",
    "    return _df.rename(columns={'pred':'$\\hat{y}$'})\n",
    "\n",
    "df_bad_sample_ = wrap_math(df_bad.sample(115))\n",
    "df_bad_sample_[['$\\hat{y}$', 'y']]"
   ]
  },
  {
   "cell_type": "code",
   "execution_count": null,
   "metadata": {
    "collapsed": true
   },
   "outputs": [],
   "source": [
    "df_bad_sample_.columns"
   ]
  },
  {
   "cell_type": "markdown",
   "metadata": {},
   "source": [
    "#### Filter MathJax Errors\n",
    "Though they rendered fine with pdflatex, MathJax has difficulty rendering some images. Therefore we will remove them for visualization purposes so that one may leverage pandas to generate pretty formatted formulas."
   ]
  },
  {
   "cell_type": "code",
   "execution_count": null,
   "metadata": {
    "collapsed": true,
    "scrolled": true
   },
   "outputs": [],
   "source": [
    "df_bad_sample = df_bad_sample_.drop([1,3,44,45,86,89,94,102,107,110,114]).iloc[:100].reset_index(drop=True)\n",
    "df_bad_sample[['$\\hat{y}$', 'y']]"
   ]
  },
  {
   "cell_type": "code",
   "execution_count": null,
   "metadata": {
    "collapsed": true
   },
   "outputs": [],
   "source": [
    "dump(df_bad, df_bad_sample, 'unmatched')"
   ]
  },
  {
   "cell_type": "code",
   "execution_count": null,
   "metadata": {
    "collapsed": true
   },
   "outputs": [],
   "source": [
    "df_matched = df_preds[~df_preds.index.isin(unmatched + missing)]\n",
    "df_matched.shape"
   ]
  },
  {
   "cell_type": "code",
   "execution_count": null,
   "metadata": {
    "collapsed": true
   },
   "outputs": [],
   "source": [
    "df_matched[df_matched.ed==0.0].shape"
   ]
  },
  {
   "cell_type": "code",
   "execution_count": null,
   "metadata": {
    "collapsed": true,
    "scrolled": true
   },
   "outputs": [],
   "source": [
    "df_txt_matched = df_matched[df_matched.ed==0.0].sort_values(by='pred_len', ascending=False)\n",
    "df_txt_matched_sample_ = wrap_math(df_txt_matched[:100])\n",
    "df_txt_matched_sample_[['$\\hat{y}$', 'y']]"
   ]
  },
  {
   "cell_type": "code",
   "execution_count": null,
   "metadata": {
    "collapsed": true
   },
   "outputs": [],
   "source": [
    "dump(df_txt_matched, df_txt_matched_sample_, 'txt_matched')"
   ]
  },
  {
   "cell_type": "code",
   "execution_count": null,
   "metadata": {
    "collapsed": true
   },
   "outputs": [],
   "source": [
    "df_img_matched.columns"
   ]
  },
  {
   "cell_type": "code",
   "execution_count": null,
   "metadata": {
    "collapsed": true,
    "scrolled": true
   },
   "outputs": [],
   "source": [
    "df_img_matched = df_matched[df_matched.ed!=0.0].sort_values(by='pred_len', ascending=False)\n",
    "df_img_matched_sample_ = wrap_math(df_img_matched[:110])\n",
    "df_img_matched_sample_[['$\\hat{y}$', 'pred_len', 'y',  'target_len']]"
   ]
  },
  {
   "cell_type": "code",
   "execution_count": null,
   "metadata": {
    "collapsed": true,
    "scrolled": true
   },
   "outputs": [],
   "source": [
    "df_img_matched_sample = df_img_matched_sample_.drop([29, 60, 89, 104]).reset_index(drop=True).iloc[:100]\n",
    "df_img_matched_sample[['$\\hat{y}$', 'pred_len', 'y',  'target_len']]"
   ]
  },
  {
   "cell_type": "code",
   "execution_count": null,
   "metadata": {
    "collapsed": true
   },
   "outputs": [],
   "source": [
    "dump(df_img_matched, df_img_matched_sample, 'img_matched')"
   ]
  },
  {
   "cell_type": "markdown",
   "metadata": {},
   "source": [
    "# End"
   ]
  }
 ],
 "metadata": {
  "kernelspec": {
   "display_name": "Python 2",
   "language": "python",
   "name": "python2"
  },
  "language_info": {
   "codemirror_mode": {
    "name": "ipython",
    "version": 2
   },
   "file_extension": ".py",
   "mimetype": "text/x-python",
   "name": "python",
   "nbconvert_exporter": "python",
   "pygments_lexer": "ipython2",
   "version": "2.7.14"
  }
 },
 "nbformat": 4,
 "nbformat_minor": 2
}
