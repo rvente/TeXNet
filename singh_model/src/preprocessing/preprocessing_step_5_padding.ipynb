{
 "cells": [
  {
   "cell_type": "markdown",
   "metadata": {},
   "source": [
    "# im2latex: Data Binning\n",
    "\n",
    "&copy; Copyright 2017 - 2018 Sumeet S Singh\n",
    "\n",
    "    This file is part of im2latex solution by Sumeet S Singh.\n",
    "\n",
    "    This program is free software: you can redistribute it and/or modify\n",
    "    it under the terms of the Affero GNU General Public License as published by\n",
    "    the Free Software Foundation, either version 3 of the License, or\n",
    "    (at your option) any later version.\n",
    "\n",
    "    This program is distributed in the hope that it will be useful,\n",
    "    but WITHOUT ANY WARRANTY; without even the implied warranty of\n",
    "    MERCHANTABILITY or FITNESS FOR A PARTICULAR PURPOSE.  See the\n",
    "    Affero GNU General Public License for more details.\n",
    "\n",
    "    You should have received a copy of the Affero GNU General Public License\n",
    "    along with this program.  If not, see <http://www.gnu.org/licenses/>."
   ]
  },
  {
   "cell_type": "markdown",
   "metadata": {},
   "source": [
    "----\n",
    "## 'Binning' Training Data by Markup Sequence Length\n",
    "Next, we'll group the samples by length of the (tokenized) latex formulas. The idea is to standardize the sequence lengths to a small set of fixed lengths (by padding smaller neighboring sequences with a 'null' tokens at the end.). This will allow us to create equal length batches for RNN/LSTM training while minimizing wasted training cycles. The [Show, Attend and Tell paper](https://www.semanticscholar.org/paper/Show-Attend-and-Tell-Neural-Image-Caption-Generati-Xu-Ba/146f6f6ed688c905fb6e346ad02332efd5464616) suggests this approach. At every epoch, we'll randomly/uniformly draw batches from within each group. Then we'll randomize said batch-list and use it for the training epoch. At next epoch, we'll repeat the process. The larger our group-size, that much better randomness we'll get in the training sequence. However the downside of increasing group-size is more padding of sequence-lengths resulting in wasteful  (and worse; maybe even misleading) training cycles.\n",
    "\n",
    "-----"
   ]
  },
  {
   "cell_type": "code",
   "execution_count": 1,
   "metadata": {
    "cellView": "both",
    "colab": {
     "autoexec": {
      "startup": false,
      "wait_interval": 0
     }
    },
    "colab_type": "code",
    "collapsed": true,
    "id": "apJbCsBHl-2A",
    "scrolled": true
   },
   "outputs": [],
   "source": [
    "from __future__ import print_function\n",
    "import os\n",
    "import numpy as np\n",
    "from IPython.display import display, Image as ipImage\n",
    "import PIL\n",
    "from PIL import Image\n",
    "from scipy import ndimage\n",
    "from sklearn.linear_model import LogisticRegression\n",
    "from six.moves import cPickle as pickle\n",
    "from mpl_toolkits.axes_grid1 import ImageGrid\n",
    "import pandas as pd\n",
    "import matplotlib.pyplot as plt\n",
    "\n",
    "# Config the matplotlib backend as plotting inline in IPython\n",
    "%matplotlib inline"
   ]
  },
  {
   "cell_type": "code",
   "execution_count": 2,
   "metadata": {
    "collapsed": true,
    "scrolled": true
   },
   "outputs": [],
   "source": [
    "# pd.options.display.max_rows = 600\n",
    "pd.options.display.max_columns = 20\n",
    "pd.options.display.max_colwidth = 100\n",
    "pd.options.display.width = 160"
   ]
  },
  {
   "cell_type": "markdown",
   "metadata": {},
   "source": [
    "### Notebook Arguments\n",
    "Change the arguments below before you run the notebook."
   ]
  },
  {
   "cell_type": "code",
   "execution_count": 3,
   "metadata": {
    "collapsed": true
   },
   "outputs": [],
   "source": [
    "HYPER_batch_size = 56\n",
    "data_folder = data_dir = '../data/dataset5'\n",
    "image_folder = image_dir = os.path.join(data_folder, 'formula_images')\n",
    "raw_data_dir = os.path.join(data_folder, 'training_56')\n",
    "input_data_dir = os.path.join(data_folder, 'step4')\n",
    "dump = False"
   ]
  },
  {
   "cell_type": "code",
   "execution_count": 4,
   "metadata": {},
   "outputs": [
    {
     "name": "stdout",
     "output_type": "stream",
     "text": [
      "Output Dir = ../data/dataset5/training_56\n"
     ]
    }
   ],
   "source": [
    "print('Output Dir = %s'%raw_data_dir)"
   ]
  },
  {
   "cell_type": "code",
   "execution_count": 5,
   "metadata": {
    "scrolled": true
   },
   "outputs": [
    {
     "name": "stdout",
     "output_type": "stream",
     "text": [
      "df_train.shape = (114406, 7)\n",
      "df_valid.shape = (14280, 7)\n",
      "df_test.shape = (14280, 7)\n"
     ]
    }
   ],
   "source": [
    "df_train = pd.read_pickle(os.path.join(input_data_dir, 'df_train.pkl'))\n",
    "print('df_train.shape = %s'%(df_train.shape,))\n",
    "df_valid = pd.read_pickle(os.path.join(input_data_dir, 'df_valid.pkl'))\n",
    "print('df_valid.shape = %s'%(df_valid.shape,))\n",
    "df_test = pd.read_pickle(os.path.join(input_data_dir, 'df_test.pkl'))\n",
    "print('df_test.shape = %s'%(df_test.shape,))"
   ]
  },
  {
   "cell_type": "code",
   "execution_count": 6,
   "metadata": {
    "collapsed": true
   },
   "outputs": [],
   "source": [
    "def round_up(df_, batch_size):\n",
    "    # round df_ up to an integral multiple of batch_size by duplicating randomly selected samples\n",
    "    remainder =  - df_.shape[0]%batch_size\n",
    "    if remainder > 0:\n",
    "        shortfall = batch_size - remainder\n",
    "        print('Rounding up df_ from size %d to %d'%(df_.shape[0], df_.shape[0]+shortfall))\n",
    "        df_shortfall = df_.sample(n=shortfall)\n",
    "        df_shortfall.index = (df_shortfall.index + 1000000) # Add 1 mil to the index to ensure unique index\n",
    "        df_ = df_.append(df_shortfall, verify_integrity=True)\n",
    "    assert df_.index.intersection(df_test.index).shape[0] == 0\n",
    "    return df_"
   ]
  },
  {
   "cell_type": "code",
   "execution_count": 8,
   "metadata": {
    "scrolled": true
   },
   "outputs": [
    {
     "name": "stdout",
     "output_type": "stream",
     "text": [
      "(114460, 7)\n",
      "Rounding up df_ from size 114460 to 114512\n",
      "(14280, 7) (14280, 7) (114512, 7)\n",
      "Rounded up samples = 143072, Actual samples = 143020\n"
     ]
    }
   ],
   "source": [
    "# round df_train up to an integral multiple of batch_size by duplicating randomly selected samples\n",
    "original_shape = df_train.shape\n",
    "print(original_shape)\n",
    "df_train = round_up(df_train, HYPER_batch_size)\n",
    "print(df_test.shape, df_valid.shape, df_train.shape)\n",
    "print('Rounded up samples = %d, Actual samples = %d'%(df_test.shape[0]+df_train.shape[0]+df_valid.shape[0], \n",
    "                                                      original_shape[0]+df_test.shape[0]+df_valid.shape[0],\n",
    "                                                     ))"
   ]
  },
  {
   "cell_type": "code",
   "execution_count": 9,
   "metadata": {
    "scrolled": false
   },
   "outputs": [
    {
     "data": {
      "text/plain": [
       "<matplotlib.axes._subplots.AxesSubplot at 0x7f9eca3a5510>"
      ]
     },
     "execution_count": 9,
     "metadata": {},
     "output_type": "execute_result"
    },
    {
     "data": {
      "image/png": "[encoded data removed]",
      "text/plain": [
       "<matplotlib.figure.Figure at 0x7f9ecb916d90>"
      ]
     },
     "metadata": {},
     "output_type": "display_data"
    }
   ],
   "source": [
    "axes = plt.axes()\n",
    "axes.set_ylabel('bin-count')\n",
    "axes.set_title('test bin distribution')\n",
    "df_test.groupby('bin_len').count().image.plot.bar(ax=axes, lw=2, figsize=(15,5), grid=True)"
   ]
  },
  {
   "cell_type": "code",
   "execution_count": 10,
   "metadata": {},
   "outputs": [
    {
     "data": {
      "text/plain": [
       "<matplotlib.axes._subplots.AxesSubplot at 0x7f9eca3da3d0>"
      ]
     },
     "execution_count": 10,
     "metadata": {},
     "output_type": "execute_result"
    },
    {
     "data": {
      "image/png": "[encoded data removed]",
      "text/plain": [
       "<matplotlib.figure.Figure at 0x7f9eca3157d0>"
      ]
     },
     "metadata": {},
     "output_type": "display_data"
    }
   ],
   "source": [
    "axes = plt.axes()\n",
    "axes.set_ylabel('bin-count')\n",
    "axes.set_title('test bin distribution')\n",
    "df_valid.groupby('bin_len').count().image.plot.bar(ax=axes, lw=2, figsize=(15,5), grid=True)"
   ]
  },
  {
   "cell_type": "code",
   "execution_count": 11,
   "metadata": {
    "scrolled": true
   },
   "outputs": [
    {
     "data": {
      "text/plain": [
       "<matplotlib.axes._subplots.AxesSubplot at 0x7f9eca21a810>"
      ]
     },
     "execution_count": 11,
     "metadata": {},
     "output_type": "execute_result"
    },
    {
     "data": {
      "image/png": "[encoded data removed]",
      "text/plain": [
       "<matplotlib.figure.Figure at 0x7f9eca201910>"
      ]
     },
     "metadata": {},
     "output_type": "display_data"
    }
   ],
   "source": [
    "axes = plt.axes()\n",
    "axes.set_ylabel('bin-count')\n",
    "axes.set_title('training bin distribution')\n",
    "df_train.groupby('bin_len').count().image.plot.bar(ax=axes, lw=2, figsize=(15,5), grid=True)"
   ]
  },
  {
   "cell_type": "code",
   "execution_count": 12,
   "metadata": {
    "collapsed": true,
    "scrolled": true
   },
   "outputs": [],
   "source": [
    "## Code that adjusts bin-composition in order to minimze waste of samples owing to batch quantization\n",
    "def print_bin_waste(df_, batch_size_):\n",
    "    cum = 0\n",
    "    bin_lens = sorted(df_.bin_len.unique().tolist())\n",
    "    counts = [df_[df_.bin_len==l].shape[0] for l in bin_lens]\n",
    "    total = sum(counts)\n",
    "    print('bin_len|count|waste|cumulative')\n",
    "    for i in range(len(bin_lens)):\n",
    "        rem = counts[i] % batch_size_\n",
    "        cum += rem\n",
    "        print(\"%d)\\t%d,\\t%d,\\t%d\"%(bin_lens[i], counts[i], rem, cum))\n",
    "    assert total == sum(counts)\n",
    "    print('total %% batch_size_ = %d'%(total%batch_size_,))\n",
    "    return\n",
    "\n",
    "def adjust_bins(df_bins_, batch_size_):\n",
    "    df_ = df_bins_.copy()\n",
    "    bin_lens = bins = sorted(df_.bin_len.unique().tolist())\n",
    "    for i in range(len(bin_lens)-1):\n",
    "        ## Can't use bin_count here because it changes during the loop\n",
    "        rem = df_[df_.bin_len == bins[i]].shape[0] % batch_size_\n",
    "        if rem > 0:\n",
    "            ## Move the tail of the bin into the next one\n",
    "            idx_tail = df_[df_.bin_len == bins[i]].word2id_len.sort_values()[-1*rem:].index\n",
    "            df_.loc[idx_tail, 'bin_len'] = bins[i+1]\n",
    "            print('Moving %d samples from bin %d to %d'%(rem,bin_lens[i],bin_lens[i+1]))\n",
    "\n",
    "    return df_\n",
    "\n",
    "# def adjust_bins2(df_bins_, batch_size_):\n",
    "#     df_ = df_bins_.copy()\n",
    "#     ## Idea is to spread the sample-waste over all the bins, proportional to the size of the bin.\n",
    "#     waste = df_.shape[0] % batch_size_\n",
    "#     bin_lens = sorted(df_.bin_len.unique().tolist())\n",
    "#     bin_counts = [df_[df_.bin_len==l].shape[0] for l in bin_lens]\n",
    "#     ## Draw from a multinomial distribution to get the number of samples to waste in each bin.\n",
    "#     pvals = np.array(bin_counts, dtype=float) / df_.shape[0]\n",
    "#     assert sum(pvals) == 1.0\n",
    "#     print(pvals, \" sum=%f\"%(sum(pvals),))\n",
    "#     bin_waste = np.random.multinomial(waste, pvals)\n",
    "#     print(bin_waste, \" sum=%d\"%(sum(bin_waste),))\n",
    "#     ## Now adjust the bins\n",
    "#     for i in range(len(bin_lens)-1):\n",
    "#         ## Can't use bin_count here because it changes during the loop\n",
    "#         rem = df_[df_.bin_len == bin_lens[i]].shape[0] % batch_size_ - bin_waste[i]\n",
    "#         if rem > 0:\n",
    "#             ## Move the tail of the bin into the next one\n",
    "#             df_slice = df_[df_.bin_len == bin_lens[i]].word2id_len.sort_values()[-1*rem:].index\n",
    "#             df_.loc[df_slice, 'bin_len'] = bin_lens[i+1]\n",
    "#             print('Moving %d samples from bin %d to %d'%(rem,bin_lens[i],bin_lens[i+1]))\n",
    "#         elif rem < 0:\n",
    "#             ## Move in the head of the next bin into this one\n",
    "#             df_slice = df_[df_.bin_len == bin_lens[i+1]].word2id_len.sort_values()[:-1*rem].index\n",
    "#             new_bin_len = df_.loc[df_slice].word2id_len.max() + 1\n",
    "#             print('Moving %d samples from bin %d to %d (old_bin_len = %d)'%(rem,bin_lens[i+1],new_bin_len,bin_lens[i]))\n",
    "#             df_.loc[df_slice, 'bin_len'] = new_bin_len\n",
    "#             df_.loc[df_.bin_len == bin_lens[i], 'bin_len'] = new_bin_len\n",
    "#             bin_lens[i] = new_bin_len\n",
    "#     print('Final bins: ', bin_lens)\n",
    "#     return df_"
   ]
  },
  {
   "cell_type": "code",
   "execution_count": 13,
   "metadata": {
    "scrolled": false
   },
   "outputs": [
    {
     "name": "stdout",
     "output_type": "stream",
     "text": [
      "bin_len|count|waste|cumulative\n",
      "29)\t12290,\t26,\t26\n",
      "36)\t11615,\t23,\t49\n",
      "42)\t10670,\t30,\t79\n",
      "49)\t12072,\t32,\t111\n",
      "56)\t10944,\t24,\t135\n",
      "65)\t12301,\t37,\t172\n",
      "76)\t12261,\t53,\t225\n",
      "89)\t11179,\t35,\t260\n",
      "106)\t10118,\t38,\t298\n",
      "151)\t11062,\t30,\t328\n",
      "total % batch_size_ = 48\n",
      "Moving 26 samples from bin 29 to 36\n",
      "Moving 49 samples from bin 36 to 42\n",
      "Moving 23 samples from bin 42 to 49\n",
      "Moving 55 samples from bin 49 to 56\n",
      "Moving 23 samples from bin 56 to 65\n",
      "Moving 4 samples from bin 65 to 76\n",
      "Moving 1 samples from bin 76 to 89\n",
      "Moving 36 samples from bin 89 to 106\n",
      "Moving 18 samples from bin 106 to 151\n",
      "bin_len|count|waste|cumulative\n",
      "29)\t12264,\t0,\t0\n",
      "36)\t11592,\t0,\t0\n",
      "42)\t10696,\t0,\t0\n",
      "49)\t12040,\t0,\t0\n",
      "56)\t10976,\t0,\t0\n",
      "65)\t12320,\t0,\t0\n",
      "76)\t12264,\t0,\t0\n",
      "89)\t11144,\t0,\t0\n",
      "106)\t10136,\t0,\t0\n",
      "151)\t11080,\t48,\t48\n",
      "total % batch_size_ = 48\n"
     ]
    },
    {
     "data": {
      "text/plain": [
       "<matplotlib.axes._subplots.AxesSubplot at 0x7f9ec09436d0>"
      ]
     },
     "execution_count": 13,
     "metadata": {},
     "output_type": "execute_result"
    },
    {
     "data": {
      "image/png": "[encoded data removed]",
      "text/plain": [
       "<matplotlib.figure.Figure at 0x7f9eca286e10>"
      ]
     },
     "metadata": {},
     "output_type": "display_data"
    }
   ],
   "source": [
    "print_bin_waste(df_train, HYPER_batch_size)\n",
    "df_train_adjusted = adjust_bins(df_train, HYPER_batch_size)\n",
    "print_bin_waste(df_train_adjusted, HYPER_batch_size)\n",
    "## Plot\n",
    "axes = plt.axes()\n",
    "axes.set_xlabel('bin_len')\n",
    "axes.set_ylabel('bin-count')\n",
    "axes.set_title('bin distribution')\n",
    "df_train_adjusted.groupby('bin_len').count().image.plot.bar(ax=axes, lw=2, figsize=(15,5), grid=True)"
   ]
  },
  {
   "cell_type": "code",
   "execution_count": 14,
   "metadata": {
    "scrolled": true
   },
   "outputs": [
    {
     "name": "stdout",
     "output_type": "stream",
     "text": [
      "bin_len|count|waste|cumulative\n",
      "29)\t1569,\t1,\t1\n",
      "36)\t1365,\t21,\t22\n",
      "42)\t1358,\t14,\t36\n",
      "49)\t1577,\t9,\t45\n",
      "56)\t1381,\t37,\t82\n",
      "65)\t1485,\t29,\t111\n",
      "76)\t1489,\t33,\t144\n",
      "89)\t1418,\t18,\t162\n",
      "106)\t1266,\t34,\t196\n",
      "151)\t1372,\t28,\t224\n",
      "total % batch_size_ = 0\n",
      "Moving 1 samples from bin 29 to 36\n",
      "Moving 22 samples from bin 36 to 42\n",
      "Moving 36 samples from bin 42 to 49\n",
      "Moving 45 samples from bin 49 to 56\n",
      "Moving 26 samples from bin 56 to 65\n",
      "Moving 55 samples from bin 65 to 76\n",
      "Moving 32 samples from bin 76 to 89\n",
      "Moving 50 samples from bin 89 to 106\n",
      "Moving 28 samples from bin 106 to 151\n",
      "bin_len|count|waste|cumulative\n",
      "29)\t1568,\t0,\t0\n",
      "36)\t1344,\t0,\t0\n",
      "42)\t1344,\t0,\t0\n",
      "49)\t1568,\t0,\t0\n",
      "56)\t1400,\t0,\t0\n",
      "65)\t1456,\t0,\t0\n",
      "76)\t1512,\t0,\t0\n",
      "89)\t1400,\t0,\t0\n",
      "106)\t1288,\t0,\t0\n",
      "151)\t1400,\t0,\t0\n",
      "total % batch_size_ = 0\n"
     ]
    },
    {
     "data": {
      "text/plain": [
       "<matplotlib.axes._subplots.AxesSubplot at 0x7f9ec0895b50>"
      ]
     },
     "execution_count": 14,
     "metadata": {},
     "output_type": "execute_result"
    },
    {
     "data": {
      "image/png": "[encoded data removed]",
      "text/plain": [
       "<matplotlib.figure.Figure at 0x7f9ec08b56d0>"
      ]
     },
     "metadata": {},
     "output_type": "display_data"
    }
   ],
   "source": [
    "print_bin_waste(df_test, HYPER_batch_size)\n",
    "df_test_adjusted = adjust_bins(df_test, HYPER_batch_size)\n",
    "print_bin_waste(df_test_adjusted, HYPER_batch_size)\n",
    "## Plot\n",
    "axes = plt.axes()\n",
    "axes.set_ylabel('bin-count')\n",
    "axes.set_title('bin distribution')\n",
    "df_test_adjusted.groupby('bin_len').count().image.plot.bar(ax=axes, lw=2, figsize=(15,5), grid=True)"
   ]
  },
  {
   "cell_type": "code",
   "execution_count": 15,
   "metadata": {
    "scrolled": true
   },
   "outputs": [
    {
     "name": "stdout",
     "output_type": "stream",
     "text": [
      "bin_len|count|waste|cumulative\n",
      "29)\t1585,\t17,\t17\n",
      "36)\t1372,\t28,\t45\n",
      "42)\t1350,\t6,\t51\n",
      "49)\t1475,\t19,\t70\n",
      "56)\t1376,\t32,\t102\n",
      "65)\t1543,\t31,\t133\n",
      "76)\t1544,\t32,\t165\n",
      "89)\t1378,\t34,\t199\n",
      "106)\t1300,\t12,\t211\n",
      "151)\t1357,\t13,\t224\n",
      "total % batch_size_ = 0\n",
      "Moving 17 samples from bin 29 to 36\n",
      "Moving 45 samples from bin 36 to 42\n",
      "Moving 51 samples from bin 42 to 49\n",
      "Moving 14 samples from bin 49 to 56\n",
      "Moving 46 samples from bin 56 to 65\n",
      "Moving 21 samples from bin 65 to 76\n",
      "Moving 53 samples from bin 76 to 89\n",
      "Moving 31 samples from bin 89 to 106\n",
      "Moving 43 samples from bin 106 to 151\n",
      "bin_len|count|waste|cumulative\n",
      "29)\t1568,\t0,\t0\n",
      "36)\t1344,\t0,\t0\n",
      "42)\t1344,\t0,\t0\n",
      "49)\t1512,\t0,\t0\n",
      "56)\t1344,\t0,\t0\n",
      "65)\t1568,\t0,\t0\n",
      "76)\t1512,\t0,\t0\n",
      "89)\t1400,\t0,\t0\n",
      "106)\t1288,\t0,\t0\n",
      "151)\t1400,\t0,\t0\n",
      "total % batch_size_ = 0\n"
     ]
    },
    {
     "data": {
      "text/plain": [
       "<matplotlib.axes._subplots.AxesSubplot at 0x7f9ec07fef90>"
      ]
     },
     "execution_count": 15,
     "metadata": {},
     "output_type": "execute_result"
    },
    {
     "data": {
      "image/png": "[encoded data removed]",
      "text/plain": [
       "<matplotlib.figure.Figure at 0x7f9ec07e5050>"
      ]
     },
     "metadata": {},
     "output_type": "display_data"
    }
   ],
   "source": [
    "print_bin_waste(df_valid, HYPER_batch_size)\n",
    "df_valid_adjusted = adjust_bins(df_valid, HYPER_batch_size)\n",
    "print_bin_waste(df_valid_adjusted, HYPER_batch_size)\n",
    "## Plot\n",
    "axes = plt.axes()\n",
    "axes.set_ylabel('bin-count')\n",
    "axes.set_title('bin distribution')\n",
    "df_valid_adjusted.groupby('bin_len').count().image.plot.bar(ax=axes, lw=2, figsize=(15,5), grid=True)"
   ]
  },
  {
   "cell_type": "code",
   "execution_count": 16,
   "metadata": {
    "collapsed": true,
    "scrolled": true
   },
   "outputs": [],
   "source": [
    "def get_padded(df_):\n",
    "    def pad(row_ar):\n",
    "        \"\"\"\n",
    "        Return null-terminated and padded token-sequence, padded upto bin_len size.\n",
    "        Arguments:\n",
    "            row_ar: sequence ('bin_len', 'word2id_len', 'word2id')\n",
    "        \"\"\"\n",
    "        word2id = row_ar[2]\n",
    "        ## plen = (pad_before, pad_after)\n",
    "        plen = (0, row_ar[0]-row_ar[1])\n",
    "        ## Ensure that we have room for at least one null-terminator\n",
    "        assert plen[1] > 0\n",
    "        return np.pad(word2id, plen, 'constant', constant_values=0).tolist()\n",
    "    \n",
    "    df = df_[['bin_len', 'word2id_len', 'word2id']]\n",
    "    padded_seq = df.apply(pad, raw=True, reduce=True, axis=1)\n",
    "    df_padded = df_.assign(seq_len=df_.word2id_len+1, ## add 1 for <eos> token (null)\n",
    "                      padded_seq=padded_seq, \n",
    "                      padded_seq_len=padded_seq.str.len())\n",
    "    print(df_padded.shape)\n",
    "    display(df_padded[:1])\n",
    "    return df_padded"
   ]
  },
  {
   "cell_type": "markdown",
   "metadata": {},
   "source": [
    "#### TODO: Squashing is not needed if we do not have any whitespace token. Need to short-cut this step by simply assigning padded_seq to squashed_seq"
   ]
  },
  {
   "cell_type": "code",
   "execution_count": 17,
   "metadata": {
    "collapsed": true
   },
   "outputs": [],
   "source": [
    "def get_squashed(df_):\n",
    "    def squash(row_ar):\n",
    "        \"\"\"\n",
    "        Return padded token-sequence, with all spaces removed and padded upto bin_len size.\n",
    "        Arguments:\n",
    "            row_ar: sequence ('bin_len', 'word2id')\n",
    "        \"\"\"\n",
    "        word2id = np.asarray(row_ar[1])\n",
    "        squashed = word2id[word2id != 556]\n",
    "        return squashed.tolist()\n",
    "    def pad2(row_ar):\n",
    "        \"\"\"\n",
    "        Return null-terminated and padded token-sequence, padded upto bin_len size.\n",
    "        Arguments:\n",
    "            row_ar: sequence ('bin_len', 'col')\n",
    "        \"\"\"\n",
    "        lst = row_ar[1]\n",
    "        ## plen = (pad_before, pad_after)\n",
    "        plen = (0, row_ar[0] - len(lst))\n",
    "        ## Ensure that we have room for at least one null-terminator\n",
    "        try:\n",
    "            assert plen[1] > 0\n",
    "        except:\n",
    "            print (row_ar)\n",
    "            raise\n",
    "        return np.pad(lst, plen, 'constant', constant_values=0).tolist()\n",
    "\n",
    "    df = df_[['bin_len', 'word2id']]\n",
    "    squashed_seq = df.apply(squash, raw=True, reduce=True, axis=1)\n",
    "    df_ =  df_.assign(squashed_seq=squashed_seq,\n",
    "                      squashed_len=squashed_seq.str.len()+1) ## add 1 for <eos>/null token\n",
    "    ## Pad the squashed sequence. Had to do this separately since str.len() would\n",
    "    ## return bin-lens if this was done in the previous step.\n",
    "    df = df_[['bin_len', 'squashed_seq']]\n",
    "    padded_seq = df.apply(pad2, raw=True, reduce=True, axis=1)\n",
    "    df_squashed = df_.assign(squashed_seq=padded_seq)\n",
    "    print(df_squashed.shape)\n",
    "    display(df_squashed[:1])\n",
    "    return df_squashed"
   ]
  },
  {
   "cell_type": "code",
   "execution_count": 18,
   "metadata": {
    "scrolled": true
   },
   "outputs": [
    {
     "name": "stdout",
     "output_type": "stream",
     "text": [
      "(114512, 10)\n"
     ]
    },
    {
     "data": {
      "text/html": [
       "<div>\n",
       "<style>\n",
       "    .dataframe thead tr:only-child th {\n",
       "        text-align: right;\n",
       "    }\n",
       "\n",
       "    .dataframe thead th {\n",
       "        text-align: left;\n",
       "    }\n",
       "\n",
       "    .dataframe tbody tr th {\n",
       "        vertical-align: top;\n",
       "    }\n",
       "</style>\n",
       "<table border=\"1\" class=\"dataframe\">\n",
       "  <thead>\n",
       "    <tr style=\"text-align: right;\">\n",
       "      <th></th>\n",
       "      <th>image</th>\n",
       "      <th>height</th>\n",
       "      <th>width</th>\n",
       "      <th>word2id_len</th>\n",
       "      <th>bin_len</th>\n",
       "      <th>word2id</th>\n",
       "      <th>latex_ascii</th>\n",
       "      <th>padded_seq</th>\n",
       "      <th>padded_seq_len</th>\n",
       "      <th>seq_len</th>\n",
       "    </tr>\n",
       "  </thead>\n",
       "  <tbody>\n",
       "    <tr>\n",
       "      <th>0</th>\n",
       "      <td>23be72ded29e9b4_basic.png</td>\n",
       "      <td>78</td>\n",
       "      <td>738</td>\n",
       "      <td>112</td>\n",
       "      <td>151</td>\n",
       "      <td>[163, 305, 334, 11, 145, 336, 304, 334, 162, 336, 311, 319, 62, 195, 334, 312, 336, 304, 334, 11...</td>\n",
       "      <td>\\int _ { - \\epsilon } ^ { \\infty } d l \\: \\mathrm { e } ^ { - l \\zeta } \\int _ { - \\epsilon } ^ ...</td>\n",
       "      <td>[163, 305, 334, 11, 145, 336, 304, 334, 162, 336, 311, 319, 62, 195, 334, 312, 336, 304, 334, 11...</td>\n",
       "      <td>151</td>\n",
       "      <td>113</td>\n",
       "    </tr>\n",
       "  </tbody>\n",
       "</table>\n",
       "</div>"
      ],
      "text/plain": [
       "                       image  height  width  word2id_len  bin_len  \\\n",
       "0  23be72ded29e9b4_basic.png      78    738          112      151   \n",
       "\n",
       "                                                                                               word2id  \\\n",
       "0  [163, 305, 334, 11, 145, 336, 304, 334, 162, 336, 311, 319, 62, 195, 334, 312, 336, 304, 334, 11...   \n",
       "\n",
       "                                                                                           latex_ascii  \\\n",
       "0  \\int _ { - \\epsilon } ^ { \\infty } d l \\: \\mathrm { e } ^ { - l \\zeta } \\int _ { - \\epsilon } ^ ...   \n",
       "\n",
       "                                                                                            padded_seq  padded_seq_len  seq_len  \n",
       "0  [163, 305, 334, 11, 145, 336, 304, 334, 162, 336, 311, 319, 62, 195, 334, 312, 336, 304, 334, 11...             151      113  "
      ]
     },
     "metadata": {},
     "output_type": "display_data"
    }
   ],
   "source": [
    "df_train_padded = get_padded(df_train_adjusted)\n",
    "assert sum(df_train_padded.padded_seq_len != df_train_padded.bin_len) == 0\n",
    "assert sum(df_train_padded.word2id_len != (df_train_padded.seq_len-1)) == 0"
   ]
  },
  {
   "cell_type": "code",
   "execution_count": 19,
   "metadata": {},
   "outputs": [
    {
     "name": "stdout",
     "output_type": "stream",
     "text": [
      "(114512, 12)\n"
     ]
    },
    {
     "data": {
      "text/html": [
       "<div>\n",
       "<style>\n",
       "    .dataframe thead tr:only-child th {\n",
       "        text-align: right;\n",
       "    }\n",
       "\n",
       "    .dataframe thead th {\n",
       "        text-align: left;\n",
       "    }\n",
       "\n",
       "    .dataframe tbody tr th {\n",
       "        vertical-align: top;\n",
       "    }\n",
       "</style>\n",
       "<table border=\"1\" class=\"dataframe\">\n",
       "  <thead>\n",
       "    <tr style=\"text-align: right;\">\n",
       "      <th></th>\n",
       "      <th>image</th>\n",
       "      <th>height</th>\n",
       "      <th>width</th>\n",
       "      <th>word2id_len</th>\n",
       "      <th>bin_len</th>\n",
       "      <th>word2id</th>\n",
       "      <th>latex_ascii</th>\n",
       "      <th>padded_seq</th>\n",
       "      <th>padded_seq_len</th>\n",
       "      <th>seq_len</th>\n",
       "      <th>squashed_len</th>\n",
       "      <th>squashed_seq</th>\n",
       "    </tr>\n",
       "  </thead>\n",
       "  <tbody>\n",
       "    <tr>\n",
       "      <th>0</th>\n",
       "      <td>23be72ded29e9b4_basic.png</td>\n",
       "      <td>78</td>\n",
       "      <td>738</td>\n",
       "      <td>112</td>\n",
       "      <td>151</td>\n",
       "      <td>[163, 305, 334, 11, 145, 336, 304, 334, 162, 336, 311, 319, 62, 195, 334, 312, 336, 304, 334, 11...</td>\n",
       "      <td>\\int _ { - \\epsilon } ^ { \\infty } d l \\: \\mathrm { e } ^ { - l \\zeta } \\int _ { - \\epsilon } ^ ...</td>\n",
       "      <td>[163, 305, 334, 11, 145, 336, 304, 334, 162, 336, 311, 319, 62, 195, 334, 312, 336, 304, 334, 11...</td>\n",
       "      <td>151</td>\n",
       "      <td>113</td>\n",
       "      <td>113</td>\n",
       "      <td>[163, 305, 334, 11, 145, 336, 304, 334, 162, 336, 311, 319, 62, 195, 334, 312, 336, 304, 334, 11...</td>\n",
       "    </tr>\n",
       "  </tbody>\n",
       "</table>\n",
       "</div>"
      ],
      "text/plain": [
       "                       image  height  width  word2id_len  bin_len  \\\n",
       "0  23be72ded29e9b4_basic.png      78    738          112      151   \n",
       "\n",
       "                                                                                               word2id  \\\n",
       "0  [163, 305, 334, 11, 145, 336, 304, 334, 162, 336, 311, 319, 62, 195, 334, 312, 336, 304, 334, 11...   \n",
       "\n",
       "                                                                                           latex_ascii  \\\n",
       "0  \\int _ { - \\epsilon } ^ { \\infty } d l \\: \\mathrm { e } ^ { - l \\zeta } \\int _ { - \\epsilon } ^ ...   \n",
       "\n",
       "                                                                                            padded_seq  padded_seq_len  seq_len  squashed_len  \\\n",
       "0  [163, 305, 334, 11, 145, 336, 304, 334, 162, 336, 311, 319, 62, 195, 334, 312, 336, 304, 334, 11...             151      113           113   \n",
       "\n",
       "                                                                                          squashed_seq  \n",
       "0  [163, 305, 334, 11, 145, 336, 304, 334, 162, 336, 311, 319, 62, 195, 334, 312, 336, 304, 334, 11...  "
      ]
     },
     "metadata": {},
     "output_type": "display_data"
    }
   ],
   "source": [
    "df_train_squashed = get_squashed(df_train_padded)\n",
    "assert sum(df_train_squashed.seq_len < df_train_squashed.squashed_len) == 0"
   ]
  },
  {
   "cell_type": "code",
   "execution_count": 20,
   "metadata": {},
   "outputs": [
    {
     "name": "stdout",
     "output_type": "stream",
     "text": [
      "(14280, 10)\n"
     ]
    },
    {
     "data": {
      "text/html": [
       "<div>\n",
       "<style>\n",
       "    .dataframe thead tr:only-child th {\n",
       "        text-align: right;\n",
       "    }\n",
       "\n",
       "    .dataframe thead th {\n",
       "        text-align: left;\n",
       "    }\n",
       "\n",
       "    .dataframe tbody tr th {\n",
       "        vertical-align: top;\n",
       "    }\n",
       "</style>\n",
       "<table border=\"1\" class=\"dataframe\">\n",
       "  <thead>\n",
       "    <tr style=\"text-align: right;\">\n",
       "      <th></th>\n",
       "      <th>image</th>\n",
       "      <th>height</th>\n",
       "      <th>width</th>\n",
       "      <th>word2id_len</th>\n",
       "      <th>bin_len</th>\n",
       "      <th>word2id</th>\n",
       "      <th>latex_ascii</th>\n",
       "      <th>padded_seq</th>\n",
       "      <th>padded_seq_len</th>\n",
       "      <th>seq_len</th>\n",
       "    </tr>\n",
       "  </thead>\n",
       "  <tbody>\n",
       "    <tr>\n",
       "      <th>33457</th>\n",
       "      <td>a648e6268d4c973_basic.png</td>\n",
       "      <td>34</td>\n",
       "      <td>580</td>\n",
       "      <td>29</td>\n",
       "      <td>36</td>\n",
       "      <td>[34, 6, 206, 7, 28, 19, 281, 96, 6, 281, 96, 9, 30, 9, 31, 7, 57, 57, 10, 233, 206, 28, 15, 10, ...</td>\n",
       "      <td>E ( \\nu ) = 4 \\upsilon \\alpha ( \\upsilon \\alpha + A + B ) \\ \\ , \\quad \\nu = 0 , 1 , . . .</td>\n",
       "      <td>[34, 6, 206, 7, 28, 19, 281, 96, 6, 281, 96, 9, 30, 9, 31, 7, 57, 57, 10, 233, 206, 28, 15, 10, ...</td>\n",
       "      <td>36</td>\n",
       "      <td>30</td>\n",
       "    </tr>\n",
       "  </tbody>\n",
       "</table>\n",
       "</div>"
      ],
      "text/plain": [
       "                           image  height  width  word2id_len  bin_len  \\\n",
       "33457  a648e6268d4c973_basic.png      34    580           29       36   \n",
       "\n",
       "                                                                                                   word2id  \\\n",
       "33457  [34, 6, 206, 7, 28, 19, 281, 96, 6, 281, 96, 9, 30, 9, 31, 7, 57, 57, 10, 233, 206, 28, 15, 10, ...   \n",
       "\n",
       "                                                                                     latex_ascii  \\\n",
       "33457  E ( \\nu ) = 4 \\upsilon \\alpha ( \\upsilon \\alpha + A + B ) \\ \\ , \\quad \\nu = 0 , 1 , . . .   \n",
       "\n",
       "                                                                                                padded_seq  padded_seq_len  seq_len  \n",
       "33457  [34, 6, 206, 7, 28, 19, 281, 96, 6, 281, 96, 9, 30, 9, 31, 7, 57, 57, 10, 233, 206, 28, 15, 10, ...              36       30  "
      ]
     },
     "metadata": {},
     "output_type": "display_data"
    }
   ],
   "source": [
    "df_valid_padded = get_padded(df_valid_adjusted)\n",
    "assert sum(df_valid_padded.padded_seq_len != df_valid_padded.bin_len) == 0\n",
    "assert sum(df_valid_padded.word2id_len != (df_valid_padded.seq_len-1)) == 0"
   ]
  },
  {
   "cell_type": "code",
   "execution_count": 21,
   "metadata": {},
   "outputs": [
    {
     "name": "stdout",
     "output_type": "stream",
     "text": [
      "(14280, 12)\n"
     ]
    },
    {
     "data": {
      "text/html": [
       "<div>\n",
       "<style>\n",
       "    .dataframe thead tr:only-child th {\n",
       "        text-align: right;\n",
       "    }\n",
       "\n",
       "    .dataframe thead th {\n",
       "        text-align: left;\n",
       "    }\n",
       "\n",
       "    .dataframe tbody tr th {\n",
       "        vertical-align: top;\n",
       "    }\n",
       "</style>\n",
       "<table border=\"1\" class=\"dataframe\">\n",
       "  <thead>\n",
       "    <tr style=\"text-align: right;\">\n",
       "      <th></th>\n",
       "      <th>image</th>\n",
       "      <th>height</th>\n",
       "      <th>width</th>\n",
       "      <th>word2id_len</th>\n",
       "      <th>bin_len</th>\n",
       "      <th>word2id</th>\n",
       "      <th>latex_ascii</th>\n",
       "      <th>padded_seq</th>\n",
       "      <th>padded_seq_len</th>\n",
       "      <th>seq_len</th>\n",
       "      <th>squashed_len</th>\n",
       "      <th>squashed_seq</th>\n",
       "    </tr>\n",
       "  </thead>\n",
       "  <tbody>\n",
       "    <tr>\n",
       "      <th>33457</th>\n",
       "      <td>a648e6268d4c973_basic.png</td>\n",
       "      <td>34</td>\n",
       "      <td>580</td>\n",
       "      <td>29</td>\n",
       "      <td>36</td>\n",
       "      <td>[34, 6, 206, 7, 28, 19, 281, 96, 6, 281, 96, 9, 30, 9, 31, 7, 57, 57, 10, 233, 206, 28, 15, 10, ...</td>\n",
       "      <td>E ( \\nu ) = 4 \\upsilon \\alpha ( \\upsilon \\alpha + A + B ) \\ \\ , \\quad \\nu = 0 , 1 , . . .</td>\n",
       "      <td>[34, 6, 206, 7, 28, 19, 281, 96, 6, 281, 96, 9, 30, 9, 31, 7, 57, 57, 10, 233, 206, 28, 15, 10, ...</td>\n",
       "      <td>36</td>\n",
       "      <td>30</td>\n",
       "      <td>30</td>\n",
       "      <td>[34, 6, 206, 7, 28, 19, 281, 96, 6, 281, 96, 9, 30, 9, 31, 7, 57, 57, 10, 233, 206, 28, 15, 10, ...</td>\n",
       "    </tr>\n",
       "  </tbody>\n",
       "</table>\n",
       "</div>"
      ],
      "text/plain": [
       "                           image  height  width  word2id_len  bin_len  \\\n",
       "33457  a648e6268d4c973_basic.png      34    580           29       36   \n",
       "\n",
       "                                                                                                   word2id  \\\n",
       "33457  [34, 6, 206, 7, 28, 19, 281, 96, 6, 281, 96, 9, 30, 9, 31, 7, 57, 57, 10, 233, 206, 28, 15, 10, ...   \n",
       "\n",
       "                                                                                     latex_ascii  \\\n",
       "33457  E ( \\nu ) = 4 \\upsilon \\alpha ( \\upsilon \\alpha + A + B ) \\ \\ , \\quad \\nu = 0 , 1 , . . .   \n",
       "\n",
       "                                                                                                padded_seq  padded_seq_len  seq_len  squashed_len  \\\n",
       "33457  [34, 6, 206, 7, 28, 19, 281, 96, 6, 281, 96, 9, 30, 9, 31, 7, 57, 57, 10, 233, 206, 28, 15, 10, ...              36       30            30   \n",
       "\n",
       "                                                                                              squashed_seq  \n",
       "33457  [34, 6, 206, 7, 28, 19, 281, 96, 6, 281, 96, 9, 30, 9, 31, 7, 57, 57, 10, 233, 206, 28, 15, 10, ...  "
      ]
     },
     "metadata": {},
     "output_type": "display_data"
    }
   ],
   "source": [
    "df_valid_squashed = get_squashed(df_valid_padded)\n",
    "assert sum(df_valid_squashed.seq_len < df_valid_squashed.squashed_len) == 0"
   ]
  },
  {
   "cell_type": "code",
   "execution_count": 22,
   "metadata": {},
   "outputs": [
    {
     "name": "stdout",
     "output_type": "stream",
     "text": [
      "(14280, 10)\n"
     ]
    },
    {
     "data": {
      "text/html": [
       "<div>\n",
       "<style>\n",
       "    .dataframe thead tr:only-child th {\n",
       "        text-align: right;\n",
       "    }\n",
       "\n",
       "    .dataframe thead th {\n",
       "        text-align: left;\n",
       "    }\n",
       "\n",
       "    .dataframe tbody tr th {\n",
       "        vertical-align: top;\n",
       "    }\n",
       "</style>\n",
       "<table border=\"1\" class=\"dataframe\">\n",
       "  <thead>\n",
       "    <tr style=\"text-align: right;\">\n",
       "      <th></th>\n",
       "      <th>image</th>\n",
       "      <th>height</th>\n",
       "      <th>width</th>\n",
       "      <th>word2id_len</th>\n",
       "      <th>bin_len</th>\n",
       "      <th>word2id</th>\n",
       "      <th>latex_ascii</th>\n",
       "      <th>padded_seq</th>\n",
       "      <th>padded_seq_len</th>\n",
       "      <th>seq_len</th>\n",
       "    </tr>\n",
       "  </thead>\n",
       "  <tbody>\n",
       "    <tr>\n",
       "      <th>63251</th>\n",
       "      <td>a85bc599a20418d_basic.png</td>\n",
       "      <td>67</td>\n",
       "      <td>312</td>\n",
       "      <td>34</td>\n",
       "      <td>36</td>\n",
       "      <td>[145, 305, 334, 333, 336, 28, 11, 212, 334, 319, 321, 336, 334, 150, 334, 145, 336, 334, 200, 33...</td>\n",
       "      <td>\\epsilon _ { z } = - \\operatorname { l n } { \\frac { \\epsilon } { \\mu } } + \\sigma ( r _ { h } )...</td>\n",
       "      <td>[145, 305, 334, 333, 336, 28, 11, 212, 334, 319, 321, 336, 334, 150, 334, 145, 336, 334, 200, 33...</td>\n",
       "      <td>36</td>\n",
       "      <td>35</td>\n",
       "    </tr>\n",
       "  </tbody>\n",
       "</table>\n",
       "</div>"
      ],
      "text/plain": [
       "                           image  height  width  word2id_len  bin_len  \\\n",
       "63251  a85bc599a20418d_basic.png      67    312           34       36   \n",
       "\n",
       "                                                                                                   word2id  \\\n",
       "63251  [145, 305, 334, 333, 336, 28, 11, 212, 334, 319, 321, 336, 334, 150, 334, 145, 336, 334, 200, 33...   \n",
       "\n",
       "                                                                                               latex_ascii  \\\n",
       "63251  \\epsilon _ { z } = - \\operatorname { l n } { \\frac { \\epsilon } { \\mu } } + \\sigma ( r _ { h } )...   \n",
       "\n",
       "                                                                                                padded_seq  padded_seq_len  seq_len  \n",
       "63251  [145, 305, 334, 333, 336, 28, 11, 212, 334, 319, 321, 336, 334, 150, 334, 145, 336, 334, 200, 33...              36       35  "
      ]
     },
     "metadata": {},
     "output_type": "display_data"
    }
   ],
   "source": [
    "df_test_padded = get_padded(df_test_adjusted)\n",
    "assert sum(df_test_padded.padded_seq_len != df_test_padded.bin_len) == 0\n",
    "assert sum(df_test_padded.word2id_len != (df_test_padded.seq_len-1)) == 0"
   ]
  },
  {
   "cell_type": "code",
   "execution_count": 23,
   "metadata": {},
   "outputs": [
    {
     "name": "stdout",
     "output_type": "stream",
     "text": [
      "(14280, 12)\n"
     ]
    },
    {
     "data": {
      "text/html": [
       "<div>\n",
       "<style>\n",
       "    .dataframe thead tr:only-child th {\n",
       "        text-align: right;\n",
       "    }\n",
       "\n",
       "    .dataframe thead th {\n",
       "        text-align: left;\n",
       "    }\n",
       "\n",
       "    .dataframe tbody tr th {\n",
       "        vertical-align: top;\n",
       "    }\n",
       "</style>\n",
       "<table border=\"1\" class=\"dataframe\">\n",
       "  <thead>\n",
       "    <tr style=\"text-align: right;\">\n",
       "      <th></th>\n",
       "      <th>image</th>\n",
       "      <th>height</th>\n",
       "      <th>width</th>\n",
       "      <th>word2id_len</th>\n",
       "      <th>bin_len</th>\n",
       "      <th>word2id</th>\n",
       "      <th>latex_ascii</th>\n",
       "      <th>padded_seq</th>\n",
       "      <th>padded_seq_len</th>\n",
       "      <th>seq_len</th>\n",
       "      <th>squashed_len</th>\n",
       "      <th>squashed_seq</th>\n",
       "    </tr>\n",
       "  </thead>\n",
       "  <tbody>\n",
       "    <tr>\n",
       "      <th>63251</th>\n",
       "      <td>a85bc599a20418d_basic.png</td>\n",
       "      <td>67</td>\n",
       "      <td>312</td>\n",
       "      <td>34</td>\n",
       "      <td>36</td>\n",
       "      <td>[145, 305, 334, 333, 336, 28, 11, 212, 334, 319, 321, 336, 334, 150, 334, 145, 336, 334, 200, 33...</td>\n",
       "      <td>\\epsilon _ { z } = - \\operatorname { l n } { \\frac { \\epsilon } { \\mu } } + \\sigma ( r _ { h } )...</td>\n",
       "      <td>[145, 305, 334, 333, 336, 28, 11, 212, 334, 319, 321, 336, 334, 150, 334, 145, 336, 334, 200, 33...</td>\n",
       "      <td>36</td>\n",
       "      <td>35</td>\n",
       "      <td>35</td>\n",
       "      <td>[145, 305, 334, 333, 336, 28, 11, 212, 334, 319, 321, 336, 334, 150, 334, 145, 336, 334, 200, 33...</td>\n",
       "    </tr>\n",
       "  </tbody>\n",
       "</table>\n",
       "</div>"
      ],
      "text/plain": [
       "                           image  height  width  word2id_len  bin_len  \\\n",
       "63251  a85bc599a20418d_basic.png      67    312           34       36   \n",
       "\n",
       "                                                                                                   word2id  \\\n",
       "63251  [145, 305, 334, 333, 336, 28, 11, 212, 334, 319, 321, 336, 334, 150, 334, 145, 336, 334, 200, 33...   \n",
       "\n",
       "                                                                                               latex_ascii  \\\n",
       "63251  \\epsilon _ { z } = - \\operatorname { l n } { \\frac { \\epsilon } { \\mu } } + \\sigma ( r _ { h } )...   \n",
       "\n",
       "                                                                                                padded_seq  padded_seq_len  seq_len  squashed_len  \\\n",
       "63251  [145, 305, 334, 333, 336, 28, 11, 212, 334, 319, 321, 336, 334, 150, 334, 145, 336, 334, 200, 33...              36       35            35   \n",
       "\n",
       "                                                                                              squashed_seq  \n",
       "63251  [145, 305, 334, 333, 336, 28, 11, 212, 334, 319, 321, 336, 334, 150, 334, 145, 336, 334, 200, 33...  "
      ]
     },
     "metadata": {},
     "output_type": "display_data"
    }
   ],
   "source": [
    "df_test_squashed = get_squashed(df_test_padded)\n",
    "assert sum(df_test_squashed.seq_len < df_test_squashed.squashed_len) == 0"
   ]
  },
  {
   "cell_type": "code",
   "execution_count": 24,
   "metadata": {},
   "outputs": [
    {
     "data": {
      "text/plain": [
       "(11592,)"
      ]
     },
     "execution_count": 24,
     "metadata": {},
     "output_type": "execute_result"
    }
   ],
   "source": [
    "df_train_squashed.seq_len[df_train_padded.bin_len == 36].values.shape\n",
    "## (6144,)"
   ]
  },
  {
   "cell_type": "code",
   "execution_count": 25,
   "metadata": {
    "collapsed": true
   },
   "outputs": [],
   "source": [
    "# Since we do not have a whitespace token the squashed and sequence lengths should be the same\n",
    "# In an earlier revision of the code we had whitespace tokens - necessitating squashing which is not needed anymore\n",
    "# but the code is still there, therefore the following assert just ensures that the code is doing the right thing\n",
    "assert df_train_squashed.seq_len.equals(df_train_squashed.squashed_len)\n",
    "assert df_test_squashed.seq_len.equals(df_test_squashed.squashed_len)\n",
    "assert df_valid_squashed.seq_len.equals(df_valid_squashed.squashed_len)"
   ]
  },
  {
   "cell_type": "code",
   "execution_count": 26,
   "metadata": {
    "collapsed": true,
    "scrolled": true
   },
   "outputs": [],
   "source": [
    "def make_seq_bins(df_):\n",
    "    \"\"\"\n",
    "    Creates ndarrays of (padded) sequence bins from df_*_padded \n",
    "    and pickles them as a dictionary of ndarrays wrapped in dataframes.\n",
    "    This preprocessing is needed in order to quickly obtain an ndarray of\n",
    "    token-sequences at training time.\n",
    "    \"\"\"\n",
    "    bin_lens = df_.bin_len.unique()\n",
    "    bins = {}\n",
    "    bins_squashed = {}\n",
    "    \n",
    "    for len_ in bin_lens:\n",
    "        df_slice = df_[df_.padded_seq_len == len_]\n",
    "        bin_ = np.array(df_slice.padded_seq.values.tolist(), dtype=np.int32)\n",
    "        bin_squashed = np.array(df_slice.squashed_seq.values.tolist(), dtype=np.int32)\n",
    "        assert bin_.shape[1] == len_\n",
    "        assert bin_.shape[0] == df_slice.shape[0]\n",
    "        bins[len_] = pd.DataFrame(bin_, index=df_slice.index)\n",
    "        bins_squashed[len_] = pd.DataFrame(bin_squashed, index=df_slice.index)\n",
    "    return bins, bins_squashed"
   ]
  },
  {
   "cell_type": "code",
   "execution_count": 27,
   "metadata": {
    "collapsed": true
   },
   "outputs": [],
   "source": [
    "bins_train, bins_sq_train = make_seq_bins(df_train_squashed)\n",
    "bins_test, bins_sq_test = make_seq_bins(df_test_squashed)\n",
    "bins_valid, bins_sq_valid = make_seq_bins(df_valid_squashed)"
   ]
  },
  {
   "cell_type": "code",
   "execution_count": 28,
   "metadata": {
    "collapsed": true
   },
   "outputs": [],
   "source": [
    "def check(bins, ser):\n",
    "    ## check that the two file contents match.\n",
    "    for bin_ in bins.keys():\n",
    "        print ('checking bin %d'%(bin_,))\n",
    "        for loc_ in bins[bin_].index.values:\n",
    "            ## print ('checking bin %d and loc %d'%(bin_,loc_))\n",
    "            try:\n",
    "                bin_seq = bins[bin_].loc[loc_]\n",
    "                assert sum(bin_seq.values != ser[loc_]) == 0\n",
    "            except:\n",
    "#                 if isinstance(bin_seq, pd.DataFrame):\n",
    "#                     # loc_ is duplicated owing to rounding up of df_train\n",
    "#                     # bin_seq is a DataFrame and ser[loc_] is a slice of the Series ser\n",
    "#                     ser_items = ser[loc_] # Series\n",
    "#                     try:\n",
    "#                         assert ser_items.shape[0] == bin_seq.shape[0]\n",
    "#                         assert sum(bin_seq.iloc[0].values != ser_items.iloc[0]) == 0\n",
    "#                     except:\n",
    "#                         print('Assertion failed at bin %d and loc %d'%(bin_,loc_))\n",
    "#                         raise\n",
    "#                 else:\n",
    "                print('Assertion failed at bin %d and loc %d'%(bin_,loc_))\n",
    "                raise"
   ]
  },
  {
   "cell_type": "code",
   "execution_count": 29,
   "metadata": {
    "scrolled": true
   },
   "outputs": [
    {
     "name": "stdout",
     "output_type": "stream",
     "text": [
      "checking bin 65\n",
      "checking bin 36\n",
      "checking bin 106\n",
      "checking bin 76\n",
      "checking bin 49\n",
      "checking bin 42\n",
      "checking bin 151\n",
      "checking bin 56\n",
      "checking bin 89\n",
      "checking bin 29\n",
      "checking bin 65\n",
      "checking bin 36\n",
      "checking bin 106\n",
      "checking bin 76\n",
      "checking bin 49\n",
      "checking bin 42\n",
      "checking bin 151\n",
      "checking bin 56\n",
      "checking bin 89\n",
      "checking bin 29\n",
      "checking bin 65\n",
      "checking bin 36\n",
      "checking bin 42\n",
      "checking bin 76\n",
      "checking bin 49\n",
      "checking bin 106\n",
      "checking bin 151\n",
      "checking bin 56\n",
      "checking bin 89\n",
      "checking bin 29\n",
      "all good !\n"
     ]
    }
   ],
   "source": [
    "check(bins_test, df_test_squashed.padded_seq)\n",
    "check(bins_valid, df_valid_squashed.padded_seq)\n",
    "check(bins_train, df_train_squashed.padded_seq)\n",
    "print(\"all good !\")"
   ]
  },
  {
   "cell_type": "markdown",
   "metadata": {},
   "source": [
    "### Persist to Disk"
   ]
  },
  {
   "cell_type": "code",
   "execution_count": 30,
   "metadata": {
    "collapsed": true
   },
   "outputs": [],
   "source": [
    "if dump:\n",
    "    if not os.path.exists(raw_data_dir):\n",
    "        os.makedirs(raw_data_dir)\n",
    "    with open(os.path.join(raw_data_dir, 'batch_size.pkl'), 'wb') as f:\n",
    "      pickle.dump(HYPER_batch_size, f, pickle.HIGHEST_PROTOCOL)\n",
    "    with open(os.path.join(raw_data_dir, 'batch_size.pkl'), 'rb') as f:\n",
    "        assert pickle.load(f) == HYPER_batch_size\n",
    "        \n",
    "    df_train_squashed.to_pickle(os.path.join(raw_data_dir, 'df_train.pkl'))\n",
    "    df_test_squashed.to_pickle(os.path.join(raw_data_dir, 'df_test.pkl'))\n",
    "    df_valid_squashed.to_pickle(os.path.join(raw_data_dir, 'df_valid.pkl'))\n",
    "    \n",
    "    with open(os.path.join(raw_data_dir, 'raw_seq_train.pkl'), 'wb') as f:\n",
    "      pickle.dump(bins_train, f, pickle.HIGHEST_PROTOCOL)\n",
    "    with open(os.path.join(raw_data_dir, 'raw_seq_sq_train.pkl'), 'wb') as f:\n",
    "      pickle.dump(bins_sq_train, f, pickle.HIGHEST_PROTOCOL)\n",
    "\n",
    "    with open(os.path.join(raw_data_dir, 'raw_seq_test.pkl'), 'wb') as f:\n",
    "      pickle.dump(bins_test, f, pickle.HIGHEST_PROTOCOL)\n",
    "    with open(os.path.join(raw_data_dir, 'raw_seq_sq_test.pkl'), 'wb') as f:\n",
    "      pickle.dump(bins_sq_test, f, pickle.HIGHEST_PROTOCOL)\n",
    "\n",
    "    with open(os.path.join(raw_data_dir, 'raw_seq_valid.pkl'), 'wb') as f:\n",
    "      pickle.dump(bins_valid, f, pickle.HIGHEST_PROTOCOL)\n",
    "    with open(os.path.join(raw_data_dir, 'raw_seq_sq_valid.pkl'), 'wb') as f:\n",
    "      pickle.dump(bins_sq_valid, f, pickle.HIGHEST_PROTOCOL)\n",
    "    \n",
    "    data_props = {}\n",
    "    dict_vocab = pd.read_pickle(os.path.join(data_dir, 'step2', 'dict_vocab.pkl'))\n",
    "    word2id = dict_vocab['id']\n",
    "    id2word = pd.read_pickle(os.path.join(data_dir, 'step2', 'dict_id2word.pkl'))\n",
    "    data_props['id2word'] = id2word\n",
    "    data_props['word2id'] = word2id\n",
    "    data_props['K'] = max(id2word.keys()) + 1\n",
    "    data_props['SpaceTokenID'] = word2id[' '] if ' ' in word2id else None\n",
    "    data_props['NullTokenID'] = word2id[r'\\eos']\n",
    "    data_props['StartTokenID'] = word2id[r'\\bos']\n",
    "    data_props['MaxSeqLen'] = df_train_squashed.padded_seq_len.max()\n",
    "    padded_image_dim = pd.read_pickle(os.path.join(data_dir, 'step3', 'padded_image_dim.pkl'))\n",
    "    data_props['padded_image_dim'] = {'height': padded_image_dim['height'], 'width':padded_image_dim['width']}\n",
    "    with open(os.path.join(raw_data_dir, 'data_props.pkl'), 'wb') as f:\n",
    "        pickle.dump(data_props, f, pickle.HIGHEST_PROTOCOL)"
   ]
  },
  {
   "cell_type": "markdown",
   "metadata": {},
   "source": [
    "# END"
   ]
  }
 ],
 "metadata": {
  "anaconda-cloud": {},
  "colab": {
   "default_view": {},
   "name": "1_notmnist.ipynb",
   "provenance": [],
   "version": "0.3.2",
   "views": {}
  },
  "kernelspec": {
   "display_name": "Python 2",
   "language": "python",
   "name": "python2"
  },
  "language_info": {
   "codemirror_mode": {
    "name": "ipython",
    "version": 2
   },
   "file_extension": ".py",
   "mimetype": "text/x-python",
   "name": "python",
   "nbconvert_exporter": "python",
   "pygments_lexer": "ipython2",
   "version": "2.7.14"
  }
 },
 "nbformat": 4,
 "nbformat_minor": 2
}
